{
 "cells": [
  {
   "cell_type": "code",
   "execution_count": 1,
   "metadata": {},
   "outputs": [
    {
     "name": "stderr",
     "output_type": "stream",
     "text": [
      "[nltk_data] Downloading package punkt to\n",
      "[nltk_data]     C:\\Users\\Vladimir\\AppData\\Roaming\\nltk_data...\n",
      "[nltk_data]   Package punkt is already up-to-date!\n"
     ]
    },
    {
     "name": "stdout",
     "output_type": "stream",
     "text": [
      "Populating the interactive namespace from numpy and matplotlib\n"
     ]
    }
   ],
   "source": [
    "import numpy as np\n",
    "import pandas as pd\n",
    "\n",
    "import json\n",
    "import bz2\n",
    "\n",
    "import regex\n",
    "\n",
    "from bs4 import BeautifulSoup\n",
    "\n",
    "import gensim\n",
    "from gensim.models import word2vec \n",
    "import nltk\n",
    "import nltk.data\n",
    "from nltk.tokenize import sent_tokenize, RegexpTokenizer\n",
    "from nltk.corpus import stopwords\n",
    "from nltk.tokenize import word_tokenize\n",
    "\n",
    "from sklearn.manifold import TSNE\n",
    "from sklearn.decomposition import TruncatedSVD\n",
    "\n",
    "from nltk.corpus import stopwords\n",
    "from pymorphy2 import MorphAnalyzer\n",
    "nltk.download('punkt')\n",
    "\n",
    "from tqdm import tqdm\n",
    "from scipy import sparse\n",
    "import matplotlib.pyplot as plt\n",
    "import seaborn as sns\n",
    "%matplotlib inline\n",
    "%pylab inline\n",
    "\n",
    "\n",
    "from sklearn.model_selection import train_test_split\n",
    "from sklearn.linear_model import LogisticRegression\n",
    "from sklearn.model_selection import cross_val_score\n",
    "import torch\n",
    "import warnings\n",
    "warnings.filterwarnings('ignore')"
   ]
  },
  {
   "cell_type": "code",
   "execution_count": 2,
   "metadata": {},
   "outputs": [
    {
     "name": "stderr",
     "output_type": "stream",
     "text": [
      "201030it [02:09, 1554.79it/s]\n"
     ]
    }
   ],
   "source": [
    "responses = []\n",
    "with bz2.BZ2File('banki_responses.json.bz2', 'r') as thefile:\n",
    "    for row in tqdm(thefile):\n",
    "        resp = json.loads(row)\n",
    "        if not resp['rating_not_checked'] and (len(resp['text'].split()) > 0):\n",
    "            responses.append(resp)"
   ]
  },
  {
   "cell_type": "code",
   "execution_count": 3,
   "metadata": {},
   "outputs": [
    {
     "data": {
      "text/plain": [
       "{'city': 'г. Москва',\n",
       " 'rating_not_checked': False,\n",
       " 'title': 'Жалоба',\n",
       " 'num_comments': 0,\n",
       " 'bank_license': 'лицензия № 2562',\n",
       " 'author': 'uhnov1',\n",
       " 'bank_name': 'Бинбанк',\n",
       " 'datetime': '2015-06-08 12:50:54',\n",
       " 'text': 'Добрый день! Я не являюсь клиентом банка и поручителем по кредитному договору, а также не являюсь каким-либо другим лицом, письменно  оформившим отношения с банком по поводу урегулирования чьей-либо  задолженности.  Начиная с марта 2015 года начали приходить бесконечные письма из ООО \"Примо коллект\"на мой адрес: город Москва, Уваровский переулок, дом 10, квартира 111, с угрозами о возбуждении уголовного дела в отношении гражданина Филиппова Эдуарда Владимировича, который уклоняется от уплаты взятых им кредитов: договор № 81014 от 20.10.2013 года и договор № 2464946 от 09.10.2014 года. Со всей ответственностью\\xa0 хочу Вас заверить, что вышеуказанный гражданин, которого Вы разыскиваете, мне не знаком и никогда в моем адресе не был зарегистрирован. Каким образом Вы не удостоверившись в подлинности его документов оформили на его имя кредитный договор, мне по меньшей мере не понятно,\\xa0 и почему по Вашей милости я должна переживать и бояться за себе и свое имущество. Письма доставляют мне серьезные неудобства, нарушают мои гражданские права, а также нарушают закон о защите персональных данных. Убедительно прошу прекратить посылать на мой адрес письма с угрозами по вопросам, к которым я не имею отношения. В случае отклонения моей претензии буду вынуждена обратиться с жалобами в  другие органы: Росспотребнадзор, Центральный банк, Службу Финансового  омбудсмена. Кроме этого будет подано заявление в полицию и заявление в  суд возмещение причиненного мне морального вреда. Надеюсь на скорое решение моего вопроса.',\n",
       " 'rating_grade': None}"
      ]
     },
     "execution_count": 3,
     "metadata": {},
     "output_type": "execute_result"
    }
   ],
   "source": [
    "responses[0]"
   ]
  },
  {
   "cell_type": "code",
   "execution_count": 4,
   "metadata": {},
   "outputs": [],
   "source": [
    "def json_to_pd(review):\n",
    "    city = []\n",
    "    rating_not_checked = []\n",
    "    title = []\n",
    "    num_comments = []\n",
    "    bank_license = []\n",
    "    author = []\n",
    "    bank_name = []\n",
    "    datetime = []\n",
    "    text = []\n",
    "    rating_grade = []\n",
    "    \n",
    "    for rec in review:\n",
    "        city.append(rec['city'])\n",
    "        rating_not_checked.append(rec['rating_not_checked'])\n",
    "        title.append(rec['title'])\n",
    "        num_comments.append(rec['num_comments'])\n",
    "        bank_license.append(rec['bank_license'])\n",
    "        author.append(rec['author'])\n",
    "        bank_name.append(rec['bank_name'])\n",
    "        datetime.append(rec['datetime'])\n",
    "        text.append(rec['text'])\n",
    "        rating_grade.append(rec['rating_grade'])\n",
    "    return pd.DataFrame(\n",
    "        {\n",
    "            'city': city,\n",
    "            'rating_not_checked': rating_not_checked,\n",
    "            'title': title,\n",
    "            'num_comments': num_comments,\n",
    "            'bank_license': bank_license,\n",
    "            'author': author,\n",
    "            'bank_name': bank_name,\n",
    "            'datetime': datetime,\n",
    "            'text': text,\n",
    "            'rating_grade': rating_grade\n",
    "            \n",
    "        }\n",
    "    )\n",
    "        "
   ]
  },
  {
   "cell_type": "code",
   "execution_count": 5,
   "metadata": {},
   "outputs": [],
   "source": [
    "df = json_to_pd(responses)"
   ]
  },
  {
   "cell_type": "code",
   "execution_count": 6,
   "metadata": {},
   "outputs": [
    {
     "data": {
      "text/html": [
       "<div>\n",
       "<style scoped>\n",
       "    .dataframe tbody tr th:only-of-type {\n",
       "        vertical-align: middle;\n",
       "    }\n",
       "\n",
       "    .dataframe tbody tr th {\n",
       "        vertical-align: top;\n",
       "    }\n",
       "\n",
       "    .dataframe thead th {\n",
       "        text-align: right;\n",
       "    }\n",
       "</style>\n",
       "<table border=\"1\" class=\"dataframe\">\n",
       "  <thead>\n",
       "    <tr style=\"text-align: right;\">\n",
       "      <th></th>\n",
       "      <th>city</th>\n",
       "      <th>rating_not_checked</th>\n",
       "      <th>title</th>\n",
       "      <th>num_comments</th>\n",
       "      <th>bank_license</th>\n",
       "      <th>author</th>\n",
       "      <th>bank_name</th>\n",
       "      <th>datetime</th>\n",
       "      <th>text</th>\n",
       "      <th>rating_grade</th>\n",
       "    </tr>\n",
       "  </thead>\n",
       "  <tbody>\n",
       "    <tr>\n",
       "      <th>0</th>\n",
       "      <td>г. Москва</td>\n",
       "      <td>False</td>\n",
       "      <td>Жалоба</td>\n",
       "      <td>0</td>\n",
       "      <td>лицензия № 2562</td>\n",
       "      <td>uhnov1</td>\n",
       "      <td>Бинбанк</td>\n",
       "      <td>2015-06-08 12:50:54</td>\n",
       "      <td>Добрый день! Я не являюсь клиентом банка и пор...</td>\n",
       "      <td>NaN</td>\n",
       "    </tr>\n",
       "    <tr>\n",
       "      <th>1</th>\n",
       "      <td>г. Новосибирск</td>\n",
       "      <td>False</td>\n",
       "      <td>Не могу пользоваться услугой Сбербанк он-лайн</td>\n",
       "      <td>0</td>\n",
       "      <td>лицензия № 1481</td>\n",
       "      <td>Foryou</td>\n",
       "      <td>Сбербанк России</td>\n",
       "      <td>2015-06-08 11:09:57</td>\n",
       "      <td>Доброго дня! Являюсь держателем зарплатной кар...</td>\n",
       "      <td>NaN</td>\n",
       "    </tr>\n",
       "    <tr>\n",
       "      <th>2</th>\n",
       "      <td>г. Москва</td>\n",
       "      <td>False</td>\n",
       "      <td>Двойное списание за один товар.</td>\n",
       "      <td>1</td>\n",
       "      <td>лицензия № 2562</td>\n",
       "      <td>Vladimir84</td>\n",
       "      <td>Бинбанк</td>\n",
       "      <td>2015-06-05 20:14:28</td>\n",
       "      <td>Здравствуйте!  Дублирую свое заявление от 03.0...</td>\n",
       "      <td>NaN</td>\n",
       "    </tr>\n",
       "    <tr>\n",
       "      <th>3</th>\n",
       "      <td>г. Ставрополь</td>\n",
       "      <td>False</td>\n",
       "      <td>Меняют проценты комиссии  не предупредив и не ...</td>\n",
       "      <td>2</td>\n",
       "      <td>лицензия № 1481</td>\n",
       "      <td>643609</td>\n",
       "      <td>Сбербанк России</td>\n",
       "      <td>2015-06-05 13:51:01</td>\n",
       "      <td>Добрый день!! Я открыл расчетный счет в СберБа...</td>\n",
       "      <td>NaN</td>\n",
       "    </tr>\n",
       "    <tr>\n",
       "      <th>4</th>\n",
       "      <td>г. Челябинск</td>\n",
       "      <td>False</td>\n",
       "      <td>Верните денежные средства за страховку</td>\n",
       "      <td>1</td>\n",
       "      <td>лицензия № 2766</td>\n",
       "      <td>anfisa-2003</td>\n",
       "      <td>ОТП Банк</td>\n",
       "      <td>2015-06-05 10:58:12</td>\n",
       "      <td>04.03.2015 г. взяла кредит в вашем банке, заяв...</td>\n",
       "      <td>NaN</td>\n",
       "    </tr>\n",
       "  </tbody>\n",
       "</table>\n",
       "</div>"
      ],
      "text/plain": [
       "             city  rating_not_checked  \\\n",
       "0       г. Москва               False   \n",
       "1  г. Новосибирск               False   \n",
       "2       г. Москва               False   \n",
       "3   г. Ставрополь               False   \n",
       "4    г. Челябинск               False   \n",
       "\n",
       "                                               title  num_comments  \\\n",
       "0                                             Жалоба             0   \n",
       "1      Не могу пользоваться услугой Сбербанк он-лайн             0   \n",
       "2                    Двойное списание за один товар.             1   \n",
       "3  Меняют проценты комиссии  не предупредив и не ...             2   \n",
       "4             Верните денежные средства за страховку             1   \n",
       "\n",
       "      bank_license       author        bank_name             datetime  \\\n",
       "0  лицензия № 2562       uhnov1          Бинбанк  2015-06-08 12:50:54   \n",
       "1  лицензия № 1481       Foryou  Сбербанк России  2015-06-08 11:09:57   \n",
       "2  лицензия № 2562   Vladimir84          Бинбанк  2015-06-05 20:14:28   \n",
       "3  лицензия № 1481       643609  Сбербанк России  2015-06-05 13:51:01   \n",
       "4  лицензия № 2766  anfisa-2003         ОТП Банк  2015-06-05 10:58:12   \n",
       "\n",
       "                                                text  rating_grade  \n",
       "0  Добрый день! Я не являюсь клиентом банка и пор...           NaN  \n",
       "1  Доброго дня! Являюсь держателем зарплатной кар...           NaN  \n",
       "2  Здравствуйте!  Дублирую свое заявление от 03.0...           NaN  \n",
       "3  Добрый день!! Я открыл расчетный счет в СберБа...           NaN  \n",
       "4  04.03.2015 г. взяла кредит в вашем банке, заяв...           NaN  "
      ]
     },
     "execution_count": 6,
     "metadata": {},
     "output_type": "execute_result"
    }
   ],
   "source": [
    "df.head(5)"
   ]
  },
  {
   "cell_type": "code",
   "execution_count": 7,
   "metadata": {},
   "outputs": [
    {
     "name": "stdout",
     "output_type": "stream",
     "text": [
      "<class 'pandas.core.frame.DataFrame'>\n",
      "RangeIndex: 153499 entries, 0 to 153498\n",
      "Data columns (total 10 columns):\n",
      " #   Column              Non-Null Count   Dtype  \n",
      "---  ------              --------------   -----  \n",
      " 0   city                138325 non-null  object \n",
      " 1   rating_not_checked  153499 non-null  bool   \n",
      " 2   title               153499 non-null  object \n",
      " 3   num_comments        153499 non-null  int64  \n",
      " 4   bank_license        153498 non-null  object \n",
      " 5   author              153479 non-null  object \n",
      " 6   bank_name           153499 non-null  object \n",
      " 7   datetime            153499 non-null  object \n",
      " 8   text                153499 non-null  object \n",
      " 9   rating_grade        88658 non-null   float64\n",
      "dtypes: bool(1), float64(1), int64(1), object(7)\n",
      "memory usage: 10.7+ MB\n"
     ]
    }
   ],
   "source": [
    "df.info()"
   ]
  },
  {
   "cell_type": "code",
   "execution_count": 8,
   "metadata": {},
   "outputs": [],
   "source": [
    "df_score = df[(df['rating_grade'].isna() == False) & (df['text'].isna() == False)].reset_index()[['text', 'rating_grade']]"
   ]
  },
  {
   "cell_type": "code",
   "execution_count": 9,
   "metadata": {},
   "outputs": [
    {
     "data": {
      "text/html": [
       "<div>\n",
       "<style scoped>\n",
       "    .dataframe tbody tr th:only-of-type {\n",
       "        vertical-align: middle;\n",
       "    }\n",
       "\n",
       "    .dataframe tbody tr th {\n",
       "        vertical-align: top;\n",
       "    }\n",
       "\n",
       "    .dataframe thead th {\n",
       "        text-align: right;\n",
       "    }\n",
       "</style>\n",
       "<table border=\"1\" class=\"dataframe\">\n",
       "  <thead>\n",
       "    <tr style=\"text-align: right;\">\n",
       "      <th></th>\n",
       "      <th>text</th>\n",
       "      <th>rating_grade</th>\n",
       "    </tr>\n",
       "  </thead>\n",
       "  <tbody>\n",
       "    <tr>\n",
       "      <th>0</th>\n",
       "      <td>Также как и многие давний клиент банка, был до...</td>\n",
       "      <td>2.0</td>\n",
       "    </tr>\n",
       "    <tr>\n",
       "      <th>1</th>\n",
       "      <td>Открыт вклад и счет в USD. Плюс к этому есть з...</td>\n",
       "      <td>1.0</td>\n",
       "    </tr>\n",
       "    <tr>\n",
       "      <th>2</th>\n",
       "      <td>Доброго времени! Вчера мне поступило смс-уведо...</td>\n",
       "      <td>1.0</td>\n",
       "    </tr>\n",
       "    <tr>\n",
       "      <th>3</th>\n",
       "      <td>05.06.2015г. около 15 часов, пришел в указанны...</td>\n",
       "      <td>1.0</td>\n",
       "    </tr>\n",
       "    <tr>\n",
       "      <th>4</th>\n",
       "      <td>Для оплаты коммунальных платежей пользуюсь пла...</td>\n",
       "      <td>1.0</td>\n",
       "    </tr>\n",
       "    <tr>\n",
       "      <th>...</th>\n",
       "      <td>...</td>\n",
       "      <td>...</td>\n",
       "    </tr>\n",
       "    <tr>\n",
       "      <th>88653</th>\n",
       "      <td>Слишком большой банк, не всегда учитывает нашу...</td>\n",
       "      <td>5.0</td>\n",
       "    </tr>\n",
       "    <tr>\n",
       "      <th>88654</th>\n",
       "      <td>Вы сами виноваты в своих проблемах, кроме пред...</td>\n",
       "      <td>3.0</td>\n",
       "    </tr>\n",
       "    <tr>\n",
       "      <th>88655</th>\n",
       "      <td>Уважаемое руководство банка «ОВК»! Я проживаю ...</td>\n",
       "      <td>1.0</td>\n",
       "    </tr>\n",
       "    <tr>\n",
       "      <th>88656</th>\n",
       "      <td>Пробовала 10.04.05 оформить товар в кредит в А...</td>\n",
       "      <td>1.0</td>\n",
       "    </tr>\n",
       "    <tr>\n",
       "      <th>88657</th>\n",
       "      <td>Если коротко, то мне нравится. Кридит получать...</td>\n",
       "      <td>5.0</td>\n",
       "    </tr>\n",
       "  </tbody>\n",
       "</table>\n",
       "<p>88658 rows × 2 columns</p>\n",
       "</div>"
      ],
      "text/plain": [
       "                                                    text  rating_grade\n",
       "0      Также как и многие давний клиент банка, был до...           2.0\n",
       "1      Открыт вклад и счет в USD. Плюс к этому есть з...           1.0\n",
       "2      Доброго времени! Вчера мне поступило смс-уведо...           1.0\n",
       "3      05.06.2015г. около 15 часов, пришел в указанны...           1.0\n",
       "4      Для оплаты коммунальных платежей пользуюсь пла...           1.0\n",
       "...                                                  ...           ...\n",
       "88653  Слишком большой банк, не всегда учитывает нашу...           5.0\n",
       "88654  Вы сами виноваты в своих проблемах, кроме пред...           3.0\n",
       "88655  Уважаемое руководство банка «ОВК»! Я проживаю ...           1.0\n",
       "88656  Пробовала 10.04.05 оформить товар в кредит в А...           1.0\n",
       "88657  Если коротко, то мне нравится. Кридит получать...           5.0\n",
       "\n",
       "[88658 rows x 2 columns]"
      ]
     },
     "execution_count": 9,
     "metadata": {},
     "output_type": "execute_result"
    }
   ],
   "source": [
    "df_score"
   ]
  },
  {
   "cell_type": "code",
   "execution_count": 10,
   "metadata": {},
   "outputs": [],
   "source": [
    "def review_to_wordlist(review, lemmatizer, remove_stopwords=False):\n",
    "    # убираем ссылки\n",
    "    review_text = re.sub(r\"http[s]?://(?:[a-zA-Z]|[0-9]|[$-_@.&+]|[!*\\(\\),]|(?:%[0-9a-fA-F][0-9a-fA-F]))+\", \" \", review)\n",
    "    # достаем сам текст\n",
    "    # review_text = BeautifulSoup(review_text, \"lxml\").get_text()\n",
    "    # оставляем только буквенные символы\n",
    "    review_text = re.sub(\"[^а-яА-ЯёЁ]\",\" \", review_text)\n",
    "    # приводим к нижнему регистру и разбиваем на слова по символу пробела\n",
    "    words = review_text.lower().split()\n",
    "    if remove_stopwords: # убираем стоп-слова\n",
    "        russian_stopwords = stopwords.words(\"russian\")\n",
    "        #stops = stopwords.words(\"english\")\n",
    "        words = [w for w in words if not w in russian_stopwords]\n",
    "    if lemmatizer:\n",
    "        return([lemmatizer.parse(word)[0].normal_form for word in words])\n",
    "    else:\n",
    "        return words\n",
    "    \n",
    "def review_to_sentences(review, tokenizer, lemmatizer = None, remove_stopwords=False):\n",
    "    # разбиваем обзор на предложения\n",
    "    raw_sentences = tokenizer.tokenize(review.strip())\n",
    "    sentences = []\n",
    "    # применяем предыдущую функцию к каждому предложению\n",
    "    for raw_sentence in raw_sentences:\n",
    "        if len(raw_sentence) > 0:\n",
    "            sentences.append(review_to_wordlist(raw_sentence, lemmatizer, remove_stopwords))\n",
    "    return sentences"
   ]
  },
  {
   "cell_type": "markdown",
   "metadata": {},
   "source": [
    "## Задание 1. Составление словаре дя классификации по тональности"
   ]
  },
  {
   "cell_type": "markdown",
   "metadata": {},
   "source": [
    "### 1.1 Разобьем коллекцию отзывов на предолжения"
   ]
  },
  {
   "cell_type": "code",
   "execution_count": 11,
   "metadata": {},
   "outputs": [],
   "source": [
    "tokenizer = nltk.data.load('tokenizers/punkt/russian.pickle')\n",
    "lemmatizer = MorphAnalyzer()"
   ]
  },
  {
   "cell_type": "code",
   "execution_count": 24,
   "metadata": {},
   "outputs": [
    {
     "name": "stdout",
     "output_type": "stream",
     "text": [
      "Parsing sentences...\n"
     ]
    },
    {
     "name": "stderr",
     "output_type": "stream",
     "text": [
      "100%|████████████████████████████████████████████████████████████████████████| 153499/153499 [2:48:33<00:00, 15.18it/s]\n"
     ]
    }
   ],
   "source": [
    "#sentences = []  \n",
    "#print('Parsing sentences...')\n",
    "#for review in tqdm(df['text']):\n",
    "#    sentences += review_to_sentences(review, tokenizer, lemmatizer)"
   ]
  },
  {
   "cell_type": "code",
   "execution_count": 28,
   "metadata": {},
   "outputs": [
    {
     "data": {
      "text/plain": [
       "[['добрый', 'день'],\n",
       " ['я',\n",
       "  'не',\n",
       "  'являться',\n",
       "  'клиент',\n",
       "  'банка',\n",
       "  'и',\n",
       "  'поручитель',\n",
       "  'по',\n",
       "  'кредитный',\n",
       "  'договор',\n",
       "  'а',\n",
       "  'также',\n",
       "  'не',\n",
       "  'являться',\n",
       "  'какой',\n",
       "  'либо',\n",
       "  'другой',\n",
       "  'лицо',\n",
       "  'письменно',\n",
       "  'оформить',\n",
       "  'отношение',\n",
       "  'с',\n",
       "  'банк',\n",
       "  'по',\n",
       "  'повод',\n",
       "  'урегулирование',\n",
       "  'чей',\n",
       "  'либо',\n",
       "  'задолженность']]"
      ]
     },
     "execution_count": 28,
     "metadata": {},
     "output_type": "execute_result"
    }
   ],
   "source": [
    "sentences[0:2]"
   ]
  },
  {
   "cell_type": "code",
   "execution_count": 26,
   "metadata": {},
   "outputs": [],
   "source": [
    "#запись результатов в файл:\n",
    "#with open('text_banki_lem.txt', 'w') as f:\n",
    "#    for s in sentences:\n",
    "#        f.write(' '.join(s))\n",
    "#        f.write('\\n')"
   ]
  },
  {
   "cell_type": "code",
   "execution_count": 12,
   "metadata": {},
   "outputs": [],
   "source": [
    "#считать результаты из файла:\n",
    "import csv\n",
    "sentences = []\n",
    "with open('text_banki_lem.txt', 'r', newline='') as csvfile:\n",
    "    r = csv.reader(csvfile, delimiter=' ')\n",
    "    sentences.append(list(r))\n",
    "sentences = sentences[0]"
   ]
  },
  {
   "cell_type": "code",
   "execution_count": 13,
   "metadata": {},
   "outputs": [
    {
     "data": {
      "text/plain": [
       "[['добрый', 'день'],\n",
       " ['я',\n",
       "  'не',\n",
       "  'являться',\n",
       "  'клиент',\n",
       "  'банка',\n",
       "  'и',\n",
       "  'поручитель',\n",
       "  'по',\n",
       "  'кредитный',\n",
       "  'договор',\n",
       "  'а',\n",
       "  'также',\n",
       "  'не',\n",
       "  'являться',\n",
       "  'какой',\n",
       "  'либо',\n",
       "  'другой',\n",
       "  'лицо',\n",
       "  'письменно',\n",
       "  'оформить',\n",
       "  'отношение',\n",
       "  'с',\n",
       "  'банк',\n",
       "  'по',\n",
       "  'повод',\n",
       "  'урегулирование',\n",
       "  'чей',\n",
       "  'либо',\n",
       "  'задолженность']]"
      ]
     },
     "execution_count": 13,
     "metadata": {},
     "output_type": "execute_result"
    }
   ],
   "source": [
    "sentences[:2]"
   ]
  },
  {
   "cell_type": "markdown",
   "metadata": {},
   "source": [
    "### 2.1 Обучим по коллекции преложений word2vec "
   ]
  },
  {
   "cell_type": "code",
   "execution_count": 14,
   "metadata": {},
   "outputs": [
    {
     "name": "stdout",
     "output_type": "stream",
     "text": [
      "Training model...\n",
      "Wall time: 3min 30s\n"
     ]
    }
   ],
   "source": [
    "print(\"Training model...\")\n",
    "\n",
    "%time model_ru = word2vec.Word2Vec(sentences, workers=4, vector_size=300, min_count=10, window=10, sample=1e-3)"
   ]
  },
  {
   "cell_type": "markdown",
   "metadata": {},
   "source": [
    "Количество слов в модели:"
   ]
  },
  {
   "cell_type": "code",
   "execution_count": 15,
   "metadata": {},
   "outputs": [
    {
     "name": "stdout",
     "output_type": "stream",
     "text": [
      "24554\n"
     ]
    }
   ],
   "source": [
    "print(len(model_ru.wv.key_to_index))"
   ]
  },
  {
   "cell_type": "markdown",
   "metadata": {},
   "source": [
    "### 1.3 Приведем несколько примеров решения стандартных текстов для word2vec"
   ]
  },
  {
   "cell_type": "markdown",
   "metadata": {},
   "source": [
    "#### Тест на определение ближайших слов"
   ]
  },
  {
   "cell_type": "code",
   "execution_count": 183,
   "metadata": {},
   "outputs": [
    {
     "data": {
      "text/plain": [
       "[('автокредит', 0.804872453212738),\n",
       " ('ипотека', 0.6825613379478455),\n",
       " ('ссуда', 0.6195905804634094),\n",
       " ('рассрочка', 0.6188734769821167),\n",
       " ('потребкредить', 0.6116408109664917),\n",
       " ('потреба', 0.5187584757804871),\n",
       " ('потребкредит', 0.47646045684814453),\n",
       " ('долг', 0.45402759313583374),\n",
       " ('заём', 0.4325988292694092),\n",
       " ('кредитка', 0.42793241143226624)]"
      ]
     },
     "execution_count": 183,
     "metadata": {},
     "output_type": "execute_result"
    }
   ],
   "source": [
    "model_ru.wv.most_similar(\"кредит\", topn=10)"
   ]
  },
  {
   "cell_type": "markdown",
   "metadata": {},
   "source": [
    "#### Тест на аналогии"
   ]
  },
  {
   "cell_type": "code",
   "execution_count": 185,
   "metadata": {},
   "outputs": [
    {
     "name": "stdout",
     "output_type": "stream",
     "text": [
      "[('женщина', 0.581272304058075)]\n"
     ]
    }
   ],
   "source": [
    "print(model_ru.wv.most_similar(positive=['созаёмщик', \"мужчина\"], negative=[\"собственник\"], topn=1))"
   ]
  },
  {
   "cell_type": "code",
   "execution_count": 186,
   "metadata": {},
   "outputs": [
    {
     "name": "stdout",
     "output_type": "stream",
     "text": [
      "[('анкета', 0.5334402918815613)]\n"
     ]
    }
   ],
   "source": [
    "print(model_ru.wv.most_similar(positive=['кредит', \"заявка\"], negative=[\"ипотека\"], topn=1))"
   ]
  },
  {
   "cell_type": "code",
   "execution_count": 187,
   "metadata": {},
   "outputs": [
    {
     "name": "stdout",
     "output_type": "stream",
     "text": [
      "[('город', 0.565762460231781)]\n"
     ]
    }
   ],
   "source": [
    "print(model_ru.wv.most_similar(positive=['москва', \"столица\"], negative=[\"самара\"], topn=1))"
   ]
  },
  {
   "cell_type": "code",
   "execution_count": 188,
   "metadata": {},
   "outputs": [
    {
     "name": "stdout",
     "output_type": "stream",
     "text": [
      "[('женщина', 0.581272304058075)]\n"
     ]
    }
   ],
   "source": [
    "print(model_ru.wv.most_similar(positive=['созаёмщик', \"мужчина\"], negative=[\"собственник\"], topn=1))"
   ]
  },
  {
   "cell_type": "markdown",
   "metadata": {},
   "source": [
    "#### Тест на лишнее слово:"
   ]
  },
  {
   "cell_type": "code",
   "execution_count": 191,
   "metadata": {},
   "outputs": [
    {
     "name": "stdout",
     "output_type": "stream",
     "text": [
      "долг\n"
     ]
    }
   ],
   "source": [
    "print(model_ru.wv.doesnt_match('кредит ипотека рассрочка ссуда долг'.split()))"
   ]
  },
  {
   "cell_type": "code",
   "execution_count": 192,
   "metadata": {},
   "outputs": [
    {
     "name": "stdout",
     "output_type": "stream",
     "text": [
      "подарок\n"
     ]
    }
   ],
   "source": [
    "print(model_ru.wv.doesnt_match('кредит ипотека рассрочка ссуда подарок'.split()))"
   ]
  },
  {
   "cell_type": "markdown",
   "metadata": {},
   "source": [
    "Вывод: словарь вплоне справляется с выделением групп слов, близких по смыслу"
   ]
  },
  {
   "cell_type": "markdown",
   "metadata": {},
   "source": [
    "### 1.4 Построим визуализации"
   ]
  },
  {
   "cell_type": "markdown",
   "metadata": {},
   "source": [
    "#### TSNE для для TOP500 по частоте встречаемости и определним осмысленные кластеры:"
   ]
  },
  {
   "cell_type": "code",
   "execution_count": 109,
   "metadata": {},
   "outputs": [],
   "source": [
    "#рассчет частоты словаиз словаря в формате ('word', index, frequency)\n",
    "vocab_freq =[]\n",
    "for key in model_ru.wv.index_to_key:\n",
    "    vocab_freq.append((key, model_ru.wv.key_to_index[key], model_ru.wv.get_vecattr(key, 'count')))"
   ]
  },
  {
   "cell_type": "code",
   "execution_count": 110,
   "metadata": {},
   "outputs": [
    {
     "data": {
      "text/plain": [
       "[('в', 0, 1355398), ('я', 1, 1122833)]"
      ]
     },
     "execution_count": 110,
     "metadata": {},
     "output_type": "execute_result"
    }
   ],
   "source": [
    "vocab_freq[:2]"
   ]
  },
  {
   "cell_type": "code",
   "execution_count": 179,
   "metadata": {},
   "outputs": [
    {
     "data": {
      "text/plain": [
       "['в', 'я']"
      ]
     },
     "execution_count": 179,
     "metadata": {},
     "output_type": "execute_result"
    }
   ],
   "source": [
    "#при выводе функции index_to_key все слова сортируются по убыванию по встречаемости\n",
    "model_ru.wv.index_to_key[:2]"
   ]
  },
  {
   "cell_type": "code",
   "execution_count": 176,
   "metadata": {},
   "outputs": [
    {
     "data": {
      "text/plain": [
       "<seaborn.axisgrid.FacetGrid at 0x28d2594dfc8>"
      ]
     },
     "execution_count": 176,
     "metadata": {},
     "output_type": "execute_result"
    },
    {
     "data": {
      "image/png": "[encoded data removed]",
      "text/plain": [
       "<Figure size 728x720 with 1 Axes>"
      ]
     },
     "metadata": {
      "needs_background": "light"
     },
     "output_type": "display_data"
    }
   ],
   "source": [
    "sample_size = 500\n",
    "sample = model_ru.wv.vectors[:sample_size]\n",
    "sample_embedded = TSNE(n_components=2, perplexity=5, verbose=0, random_state = 42).fit_transform(sample)\n",
    "vis_df = pd.DataFrame({'X': sample_embedded[:, 0], 'Y': sample_embedded[:, 1]})\n",
    "sns.FacetGrid(vis_df, size=10).map(plt.scatter, \"X\", \"Y\").add_legend()"
   ]
  },
  {
   "cell_type": "markdown",
   "metadata": {},
   "source": [
    "Возьмем нижний участок, так как он точно вделяется среди остальных и отфильтруем в диапозоне Y<=-55, -30<X<30. похоже а какия-то информация или документы, заявки"
   ]
  },
  {
   "cell_type": "code",
   "execution_count": 197,
   "metadata": {},
   "outputs": [
    {
     "name": "stdout",
     "output_type": "stream",
     "text": [
      "заявление [  4.3264775 -68.28349  ]\n",
      "документ [ 3.3133052e-02 -6.2697258e+01]\n",
      "информация [ 15.324407 -58.368538]\n",
      "смс [ 17.66266 -61.42312]\n",
      "заявка [  1.6998128 -64.23801  ]\n",
      "претензия [  5.681827 -67.81217 ]\n",
      "обращение [  6.9575562 -66.67218  ]\n",
      "письмо [ 14.75285  -63.011642]\n",
      "выписка [ -2.3896637 -59.51939  ]\n",
      "справка [ -2.0446491 -60.046677 ]\n",
      "сообщение [ 16.124872 -61.114613]\n",
      "почта [ 14.420549 -63.67429 ]\n",
      "жалоба [  6.2965927 -67.81321  ]\n",
      "запрос [  7.277669 -65.77873 ]\n",
      "анкета [  1.0100335 -63.634438 ]\n",
      "уведомление [ 15.845575 -60.427242]\n"
     ]
    }
   ],
   "source": [
    "for i, coord in enumerate(sample_embedded):\n",
    "    if (coord[1] <= -55) & (coord[0] >= -30) & (coord[0] <= 30):\n",
    "        print(model_ru.wv.index_to_key[i], coord)"
   ]
  },
  {
   "cell_type": "markdown",
   "metadata": {},
   "source": [
    "Правый верхний участок в диапозоне Y >= 20, X>=15. похоже какие-то финансовые инструменты или действия над ними"
   ]
  },
  {
   "cell_type": "code",
   "execution_count": 207,
   "metadata": {},
   "outputs": [
    {
     "name": "stdout",
     "output_type": "stream",
     "text": [
      "получить [29.686357 47.755444]\n",
      "платёж [53.919106 31.749092]\n",
      "операция [53.10808 36.89167]\n",
      "обратиться [18.197407 40.307873]\n",
      "оформить [15.695681 59.80566 ]\n",
      "перевод [52.058334 37.55628 ]\n",
      "пользоваться [52.116714 26.227058]\n",
      "взять [22.072521 61.65368 ]\n",
      "приходить [23.475595 48.134373]\n",
      "выдать [35.385944 44.980858]\n",
      "прийти [17.58475  45.967205]\n",
      "оплата [54.664932 32.288612]\n",
      "пришлый [22.716894 48.040104]\n",
      "оплатить [49.455845 29.31506 ]\n",
      "снять [44.462418 39.16506 ]\n",
      "вернуть [40.97449  43.525776]\n",
      "погашение [56.278282 30.814192]\n",
      "брать [22.415987 61.77307 ]\n",
      "получать [29.17946  47.921715]\n",
      "получение [35.1045 42.0677]\n",
      "открыть [32.47585  34.157906]\n",
      "платить [49.329647 27.467323]\n",
      "отправить [22.537712 51.252487]\n",
      "находиться [28.298418 30.961788]\n",
      "внести [47.33205 36.81917]\n",
      "предоставить [34.75686  46.157745]\n",
      "закрыть [33.777122 33.74459 ]\n",
      "обращаться [17.972319 39.966774]\n",
      "оформление [34.342575 40.928925]\n",
      "погасить [48.61326  30.528654]\n",
      "заблокировать [38.374065 30.587425]\n",
      "приехать [17.586607 45.481537]\n",
      "закрытие [33.86098  37.734997]\n",
      "покупка [55.09273 34.37199]\n",
      "списать [40.125504 32.384132]\n",
      "списание [40.57927 32.90514]\n",
      "открытие [33.633163 38.411003]\n",
      "перевести [48.354225 38.49357 ]\n",
      "снятие [41.961983 38.189186]\n",
      "поступить [26.338936 52.53399 ]\n",
      "положить [47.460136 37.88131 ]\n",
      "оформлять [16.354826 59.692528]\n",
      "возврат [40.368134 43.626896]\n",
      "магазин [57.459896 35.49552 ]\n",
      "прислать [22.614185 51.14983 ]\n",
      "выдача [35.52628  42.833763]\n",
      "забрать [44.472042 41.215057]\n",
      "заплатить [48.71661  28.409136]\n",
      "зайти [15.782346 45.629467]\n",
      "закрытый [32.98604 32.28089]\n",
      "оплачивать [50.538483 28.147041]\n",
      "снимать [43.86602  38.726055]\n",
      "подключить [38.029037 29.229088]\n",
      "открытый [32.098248 32.697918]\n",
      "поступать [26.810307 52.26781 ]\n"
     ]
    }
   ],
   "source": [
    "for i, coord in enumerate(sample_embedded):\n",
    "    if (coord[1] >= 20) & (coord[0] >= 15) & (coord[0] <= 70):\n",
    "        print(model_ru.wv.index_to_key[i], coord)"
   ]
  },
  {
   "cell_type": "markdown",
   "metadata": {},
   "source": [
    "#### Найден координаты названий банков на осях \"хорошо-плохо\", \"очередь-медленно\""
   ]
  },
  {
   "cell_type": "markdown",
   "metadata": {},
   "source": [
    "берем вектор слова \"хорошо\", вычитаем из него вектор слова \"плохо\", получаем новый вектор, который описывает разницу между хорошими и плохими словами."
   ]
  },
  {
   "cell_type": "code",
   "execution_count": 64,
   "metadata": {},
   "outputs": [],
   "source": [
    "def bank_coord(model, x, y, bank_names):\n",
    "    \"\"\"\n",
    "    Calculate coordinates x and y for bank names.\n",
    "    model - word2vec mode;\n",
    "    x, y - difference between  positive (index 0) and negative(index 1) characteristics. e.g. x = embedding(\"good\") - embedding(\"bad\").\n",
    "    bank_names - list of bank names from vocabulary \n",
    "    \"\"\"\n",
    "    x_coord = []\n",
    "    y_coord = []\n",
    "    x_m = model.wv.get_vector(x[0]) - model_ru.wv.get_vector(x[1])\n",
    "    y_m = model.wv.get_vector(y[0]) - model_ru.wv.get_vector(y[1])\n",
    "    for bank in bank_names:\n",
    "        x_coord.append(dot(model.wv.get_vector(bank), x_m))\n",
    "        y_coord.append(dot(model.wv.get_vector(bank), y_m))\n",
    "    return [x_coord, y_coord]"
   ]
  },
  {
   "cell_type": "code",
   "execution_count": 52,
   "metadata": {},
   "outputs": [],
   "source": [
    "banks = ['сбербанк','втб', 'газпромбанк', 'альфа', 'россельхоз', 'райфайзен', 'росбанк', 'юникредит', 'траст', 'тинькофф', 'ситибанк', 'уралсиб']"
   ]
  },
  {
   "cell_type": "code",
   "execution_count": 65,
   "metadata": {},
   "outputs": [],
   "source": [
    "vis_coord = bank_coord(model_ru, ['хорошо', 'плохо'], ['быстро', 'медленно'], banks)"
   ]
  },
  {
   "cell_type": "code",
   "execution_count": 66,
   "metadata": {},
   "outputs": [
    {
     "data": {
      "image/png": "[encoded data removed]",
      "text/plain": [
       "<Figure size 1152x720 with 1 Axes>"
      ]
     },
     "metadata": {
      "needs_background": "light"
     },
     "output_type": "display_data"
    }
   ],
   "source": [
    "plt.figure(figsize=(16, 10))\n",
    "plt.plot(vis_coord[0], vis_coord[1], 'ro')\n",
    "plt.xlabel('плохо - хорошо')\n",
    "plt.ylabel('медленно - быстро')\n",
    "ax = plt.gca()\n",
    "for i, annot in enumerate(banks):\n",
    "    ax.annotate(annot, (vis_coord[0][i] + 0.2, vis_coord[1][i]))\n",
    "    #ax.annotate(x['Точка'], (x['x'] + 0.2, x['y'])), axis=1)\n",
    "plt.show()"
   ]
  },
  {
   "cell_type": "markdown",
   "metadata": {},
   "source": [
    "Выводы: по результатам можно сделать сравнение банков между собою. например Тинькофф лучше чем Сбер как о быстроте, так и по качеству(хорошо\\плохо)"
   ]
  },
  {
   "cell_type": "markdown",
   "metadata": {},
   "source": [
    "## Задание 2. Распространение метки"
   ]
  },
  {
   "cell_type": "markdown",
   "metadata": {},
   "source": [
    "Определим 6 позитивных слов: хороший, выгодный, надёжный, привлекательный, комфортный, клиентоориентировать"
   ]
  },
  {
   "cell_type": "code",
   "execution_count": 68,
   "metadata": {},
   "outputs": [
    {
     "data": {
      "text/plain": [
       "[('плохой', 0.670327365398407),\n",
       " ('неплохой', 0.6077048778533936),\n",
       " ('привлекательный', 0.5448508262634277),\n",
       " ('выгодный', 0.5395774245262146),\n",
       " ('отличный', 0.5312533974647522),\n",
       " ('классный', 0.5296270251274109),\n",
       " ('радужный', 0.5095000267028809),\n",
       " ('достойный', 0.509338915348053),\n",
       " ('худой', 0.5036177039146423),\n",
       " ('надёжный', 0.5016687512397766),\n",
       " ('приглянуться', 0.49660101532936096),\n",
       " ('приподнять', 0.49290671944618225),\n",
       " ('улучшаться', 0.4906751811504364),\n",
       " ('благоприятный', 0.49034440517425537),\n",
       " ('комфортный', 0.4876440763473511),\n",
       " ('крутой', 0.48360276222229004),\n",
       " ('сладкое', 0.48012876510620117),\n",
       " ('вкусный', 0.47972068190574646),\n",
       " ('прогрессивный', 0.4772924482822418),\n",
       " ('позитивный', 0.4688205122947693),\n",
       " ('клиентоориентировать', 0.4631164073944092),\n",
       " ('хорошеть', 0.45600858330726624),\n",
       " ('конкурентный', 0.4554547071456909),\n",
       " ('улучшать', 0.454828143119812),\n",
       " ('выдающийся', 0.45170727372169495),\n",
       " ('конкурентоспособный', 0.4507984220981598),\n",
       " ('хвалить', 0.45037841796875),\n",
       " ('высокий', 0.45014479756355286),\n",
       " ('соблазнительный', 0.44928619265556335),\n",
       " ('конкурент', 0.447873592376709)]"
      ]
     },
     "execution_count": 68,
     "metadata": {},
     "output_type": "execute_result"
    }
   ],
   "source": [
    "model_ru.wv.most_similar(\"хороший\", topn=30)"
   ]
  },
  {
   "cell_type": "code",
   "execution_count": 439,
   "metadata": {},
   "outputs": [
    {
     "data": {
      "text/plain": [
       "[203, 991, 1904, 2362, 3918, 3020]"
      ]
     },
     "execution_count": 439,
     "metadata": {},
     "output_type": "execute_result"
    }
   ],
   "source": [
    "positive =['хороший', 'выгодный', 'надёжный', 'привлекательный', 'комфортный', 'клиентоориентировать']\n",
    "[model_ru.wv.key_to_index[word] for word in positive]"
   ]
  },
  {
   "cell_type": "markdown",
   "metadata": {},
   "source": [
    "Определим 6 негативных слов: испортиться, негативный, слабый, медленный, посредственный, неклиентоориентированность"
   ]
  },
  {
   "cell_type": "code",
   "execution_count": 70,
   "metadata": {},
   "outputs": [
    {
     "data": {
      "text/plain": [
       "[('хороший', 0.6703274250030518),\n",
       " ('ужасный', 0.630430281162262),\n",
       " ('испортиться', 0.5833095908164978),\n",
       " ('отвратительный', 0.5714617967605591),\n",
       " ('скверный', 0.5445045828819275),\n",
       " ('негативный', 0.5381377339363098),\n",
       " ('улучшаться', 0.5088794827461243),\n",
       " ('портиться', 0.501366913318634),\n",
       " ('слабый', 0.4987460970878601),\n",
       " ('медленный', 0.4903491139411926),\n",
       " ('идеальный', 0.4821431040763855),\n",
       " ('отстойный', 0.47808942198753357),\n",
       " ('безобразный', 0.4727594256401062),\n",
       " ('подпортиться', 0.47097939252853394),\n",
       " ('приподнять', 0.470470666885376),\n",
       " ('ухудшиться', 0.4699530303478241),\n",
       " ('посредственный', 0.4691804349422455),\n",
       " ('благоприятный', 0.4671340882778168),\n",
       " ('подпортить', 0.4670186936855316),\n",
       " ('мерзкий', 0.4608784019947052),\n",
       " ('улучшиться', 0.4583260416984558),\n",
       " ('отвратный', 0.4579964876174927),\n",
       " ('неудовлетворительный', 0.45754295587539673),\n",
       " ('панический', 0.45597678422927856),\n",
       " ('крутой', 0.45534878969192505),\n",
       " ('поганый', 0.4545890986919403),\n",
       " ('показательный', 0.4535388648509979),\n",
       " ('лестный', 0.4521085023880005),\n",
       " ('неважный', 0.45200589299201965),\n",
       " ('неклиентоориентировать', 0.4446803033351898)]"
      ]
     },
     "execution_count": 70,
     "metadata": {},
     "output_type": "execute_result"
    }
   ],
   "source": [
    "model_ru.wv.most_similar(\"плохой\", topn=30)"
   ]
  },
  {
   "cell_type": "code",
   "execution_count": 97,
   "metadata": {},
   "outputs": [
    {
     "data": {
      "text/plain": [
       "[4347, 1084, 3853, 3635, 119, 1363]"
      ]
     },
     "execution_count": 97,
     "metadata": {},
     "output_type": "execute_result"
    }
   ],
   "source": [
    "negative = ['испортиться', 'негативный', 'слабый', 'медленный', 'очередь', 'отвратительный']\n",
    "[model_ru.wv.key_to_index[word] for word in negative]"
   ]
  },
  {
   "cell_type": "code",
   "execution_count": 71,
   "metadata": {},
   "outputs": [],
   "source": [
    "from sklearn.semi_supervised import LabelPropagation"
   ]
  },
  {
   "cell_type": "code",
   "execution_count": 309,
   "metadata": {},
   "outputs": [],
   "source": [
    "lpa = LabelPropagation()"
   ]
  },
  {
   "cell_type": "code",
   "execution_count": 440,
   "metadata": {},
   "outputs": [],
   "source": [
    "negative_index = [model_ru.wv.key_to_index[word] for word in negative]\n",
    "positive_index = [model_ru.wv.key_to_index[word] for word in positive]"
   ]
  },
  {
   "cell_type": "code",
   "execution_count": 331,
   "metadata": {},
   "outputs": [],
   "source": [
    "sample_size_lp = len(model_ru.wv.vectors)\n",
    "sample_lp = model_ru.wv.vectors[:sample_size_lp+1]"
   ]
  },
  {
   "cell_type": "code",
   "execution_count": 441,
   "metadata": {},
   "outputs": [],
   "source": [
    "labels = np.full(sample_size_lp, -1)\n",
    "labels[positive_index] = 1\n",
    "labels[negative_index] = 0"
   ]
  },
  {
   "cell_type": "code",
   "execution_count": 449,
   "metadata": {},
   "outputs": [
    {
     "name": "stdout",
     "output_type": "stream",
     "text": [
      "количество 1:  6 ; колиество 0:  6 ; количество -1:  24542\n"
     ]
    }
   ],
   "source": [
    "print('количество 1: ', (labels==1).sum(), '; колиество 0: ', (labels==0).sum(), '; количество -1: ', (labels==-1).sum())"
   ]
  },
  {
   "cell_type": "code",
   "execution_count": 450,
   "metadata": {},
   "outputs": [],
   "source": [
    "lp_model = lpa.fit(sample_lp, labels)"
   ]
  },
  {
   "cell_type": "code",
   "execution_count": 452,
   "metadata": {},
   "outputs": [
    {
     "data": {
      "text/plain": [
       "6"
      ]
     },
     "execution_count": 452,
     "metadata": {},
     "output_type": "execute_result"
    }
   ],
   "source": [
    "(lp_model.transduction_==1).sum()"
   ]
  },
  {
   "cell_type": "markdown",
   "metadata": {},
   "source": [
    "Вывод: мы задавали 6 положительных 6 отрицательных слов. в итоге колчество положительных слов таким же и осталось, то есть алгоритм не unlabeled данные опметил нулями. я пробовал использовать ранзные методы rfc, knn с ращличными гиперпараметрами, но результат остался тем же.\n",
    "Я предположил, что размер датасета большой, а количество рамеченных данных малое. ниже сделал искуственный датасет с резмером 178 слов и промаркировал единиц 10шт, нулей 8 шт. В итоге имеем тот же результат, что и выше: количество единиц тоже, что и раньше, а все остальное он пометил нулями. Ниже я пробовал и алгоритм LabelSpreading, результаты которого остались неименными"
   ]
  },
  {
   "cell_type": "code",
   "execution_count": null,
   "metadata": {},
   "outputs": [],
   "source": []
  },
  {
   "cell_type": "code",
   "execution_count": 347,
   "metadata": {},
   "outputs": [],
   "source": [
    "#плохой - 879\n",
    "negative1 = [879]\n",
    "for word in model_ru.wv.most_similar(\"плохой\", topn=500):\n",
    "    if model_ru.wv.key_to_index[word[0]] < 5000:\n",
    "        negative1.append(model_ru.wv.key_to_index[word[0]])"
   ]
  },
  {
   "cell_type": "code",
   "execution_count": 351,
   "metadata": {},
   "outputs": [],
   "source": [
    "#хороший - 203\n",
    "positive1 = [203]\n",
    "for word in model_ru.wv.most_similar(\"хороший\", topn=500):\n",
    "    if model_ru.wv.key_to_index[word[0]] < 5000:\n",
    "        positive1.append(model_ru.wv.key_to_index[word[0]])"
   ]
  },
  {
   "cell_type": "code",
   "execution_count": 411,
   "metadata": {},
   "outputs": [],
   "source": [
    "posineg = list(set(positive1 + negative1))"
   ]
  },
  {
   "cell_type": "code",
   "execution_count": 412,
   "metadata": {},
   "outputs": [
    {
     "data": {
      "text/plain": [
       "182"
      ]
     },
     "execution_count": 412,
     "metadata": {},
     "output_type": "execute_result"
    }
   ],
   "source": [
    "len(posineg)"
   ]
  },
  {
   "cell_type": "code",
   "execution_count": 413,
   "metadata": {},
   "outputs": [],
   "source": [
    "labels1 = np.full(len(posineg),-1)\n",
    "for i,word_ind in enumerate(posineg):\n",
    "    if word_ind in positive1[:10]:\n",
    "        labels1[i] = 1\n",
    "    elif word_ind in negative1[:10]:\n",
    "        labels1[i] = 0\n",
    "    else: continue"
   ]
  },
  {
   "cell_type": "code",
   "execution_count": 432,
   "metadata": {},
   "outputs": [
    {
     "name": "stdout",
     "output_type": "stream",
     "text": [
      "количество 1:  10 колиество 0:  8\n"
     ]
    }
   ],
   "source": [
    "print('количество 1: ', (labels1==1).sum(), 'колиество 0: ', (labels1==0).sum())"
   ]
  },
  {
   "cell_type": "code",
   "execution_count": 418,
   "metadata": {},
   "outputs": [],
   "source": [
    "sample_lp1 = model_ru.wv.vectors[posineg]"
   ]
  },
  {
   "cell_type": "code",
   "execution_count": 419,
   "metadata": {},
   "outputs": [],
   "source": [
    "lpa1 = LabelPropagation()\n",
    "lp_model1 = lpa1.fit(sample_lp1, labels1)"
   ]
  },
  {
   "cell_type": "code",
   "execution_count": 435,
   "metadata": {},
   "outputs": [
    {
     "data": {
      "text/plain": [
       "10"
      ]
     },
     "execution_count": 435,
     "metadata": {},
     "output_type": "execute_result"
    }
   ],
   "source": [
    "(lp_model1.transduction_==1).sum()"
   ]
  },
  {
   "cell_type": "code",
   "execution_count": 433,
   "metadata": {},
   "outputs": [
    {
     "data": {
      "text/plain": [
       "array([0, 0, 0, 0, 0, 0, 0, 0, 0, 1, 0, 0, 0, 0, 0, 0, 0, 0, 0, 0, 0, 0,\n",
       "       0, 0, 0, 0, 1, 0, 0, 0, 0, 1, 0, 0, 0, 0, 0, 0, 0, 0, 0, 0, 0, 0,\n",
       "       0, 0, 0, 0, 0, 0, 0, 0, 0, 0, 0, 0, 0, 0, 0, 0, 0, 0, 0, 0, 0, 0,\n",
       "       0, 0, 0, 0, 1, 0, 0, 0, 0, 0, 0, 0, 0, 0, 0, 0, 0, 0, 0, 0, 0, 0,\n",
       "       0, 0, 0, 0, 0, 0, 0, 0, 0, 0, 0, 0, 0, 0, 0, 0, 0, 0, 0, 0, 0, 1,\n",
       "       0, 0, 0, 0, 0, 0, 0, 0, 1, 0, 0, 0, 0, 0, 0, 0, 0, 0, 1, 0, 0, 0,\n",
       "       0, 0, 0, 1, 1, 0, 0, 0, 0, 0, 0, 0, 0, 0, 0, 0, 0, 0, 0, 0, 0, 0,\n",
       "       0, 0, 0, 0, 0, 0, 0, 0, 0, 0, 0, 0, 0, 0, 0, 0, 0, 1, 0, 0, 0, 0,\n",
       "       0, 0, 0, 0, 0, 0])"
      ]
     },
     "execution_count": 433,
     "metadata": {},
     "output_type": "execute_result"
    }
   ],
   "source": [
    "lp_model1.transduction_"
   ]
  },
  {
   "cell_type": "markdown",
   "metadata": {},
   "source": [
    "Попробуем алгоритм LabelSpreading"
   ]
  },
  {
   "cell_type": "code",
   "execution_count": 244,
   "metadata": {},
   "outputs": [],
   "source": [
    "from sklearn.semi_supervised import LabelSpreading\n",
    "ls = LabelSpreading()"
   ]
  },
  {
   "cell_type": "code",
   "execution_count": 245,
   "metadata": {},
   "outputs": [],
   "source": [
    "ls_model = lpa.fit(sample_lp, labels)"
   ]
  },
  {
   "cell_type": "code",
   "execution_count": 247,
   "metadata": {},
   "outputs": [
    {
     "data": {
      "text/plain": [
       "4994"
      ]
     },
     "execution_count": 247,
     "metadata": {},
     "output_type": "execute_result"
    }
   ],
   "source": [
    "(ls_model.transduction_== 0).sum()"
   ]
  },
  {
   "cell_type": "code",
   "execution_count": 451,
   "metadata": {},
   "outputs": [
    {
     "name": "stdout",
     "output_type": "stream",
     "text": [
      "количество 1:  6 ; колиество 0:  4994 ; количество -1:  0\n"
     ]
    }
   ],
   "source": [
    "print('количество 1: ', (ls_model.transduction_==1).sum(), '; колиество 0: ', (ls_model.transduction_==0).sum(), '; количество -1: ', (ls_model.transduction_==-1).sum())"
   ]
  },
  {
   "cell_type": "code",
   "execution_count": 186,
   "metadata": {},
   "outputs": [],
   "source": [
    "#попытался нарисовать графф. тоже неуспех \n",
    "import igraph as ig\n",
    "\n",
    "\n",
    "g = ig.Graph(directed=True)\n",
    "for word in model_ru.wv.index_to_key:\n",
    "    g.add_vertex(word)\n",
    "\n",
    "for word in model_ru.wv.index_to_key:\n",
    "    node = g.vs.select(name = word).indices[0]\n",
    "    #print('node =', g.vs.select(name = word).indices)\n",
    "    similar_words = model_ru.wv.most_similar(word, topn=5)\n",
    "    for sim in similar_words:\n",
    "        word1 = sim[0]\n",
    "        val  = sim[1]\n",
    "        #print(word)\n",
    "        #print(model_ru.wv.most_similar(word, topn=5))\n",
    "        #print(sim)\n",
    "        #print(g.vs.select(name = word1).indices)\n",
    "        new_node = g.vs.select(name = word1).indices[0]\n",
    "        g.add_edge(node, new_node, weight = val)"
   ]
  },
  {
   "cell_type": "code",
   "execution_count": 241,
   "metadata": {},
   "outputs": [],
   "source": [
    "layout = g.layout()"
   ]
  },
  {
   "cell_type": "code",
   "execution_count": 242,
   "metadata": {},
   "outputs": [
    {
     "ename": "AttributeError",
     "evalue": "module 'igraph.layout' has no attribute 'coords'",
     "output_type": "error",
     "traceback": [
      "\u001b[1;31m---------------------------------------------------------------------------\u001b[0m",
      "\u001b[1;31mAttributeError\u001b[0m                            Traceback (most recent call last)",
      "\u001b[1;32m<ipython-input-242-025378afe64c>\u001b[0m in \u001b[0;36m<module>\u001b[1;34m\u001b[0m\n\u001b[0;32m      2\u001b[0m \u001b[0mfig\u001b[0m\u001b[1;33m,\u001b[0m \u001b[0max1\u001b[0m \u001b[1;33m=\u001b[0m \u001b[0mplt\u001b[0m\u001b[1;33m.\u001b[0m\u001b[0msubplots\u001b[0m\u001b[1;33m(\u001b[0m\u001b[1;33m)\u001b[0m\u001b[1;33m\u001b[0m\u001b[1;33m\u001b[0m\u001b[0m\n\u001b[0;32m      3\u001b[0m \u001b[1;31m#plot(g, layout=layout, target=ax)\u001b[0m\u001b[1;33m\u001b[0m\u001b[1;33m\u001b[0m\u001b[1;33m\u001b[0m\u001b[0m\n\u001b[1;32m----> 4\u001b[1;33m \u001b[0mplot\u001b[0m\u001b[1;33m(\u001b[0m\u001b[0mg\u001b[0m\u001b[1;33m,\u001b[0m \u001b[0mlayout\u001b[0m\u001b[1;33m=\u001b[0m\u001b[0mlayout\u001b[0m\u001b[1;33m,\u001b[0m \u001b[0mtarget\u001b[0m\u001b[1;33m=\u001b[0m\u001b[0max1\u001b[0m\u001b[1;33m)\u001b[0m\u001b[1;33m\u001b[0m\u001b[1;33m\u001b[0m\u001b[0m\n\u001b[0m",
      "\u001b[1;32mC:\\ProgramFiles\\Anaconda3\\lib\\site-packages\\igraph\\drawing\\__init__.py\u001b[0m in \u001b[0;36mplot\u001b[1;34m(obj, target, bbox, *args, **kwds)\u001b[0m\n\u001b[0;32m    473\u001b[0m     \u001b[1;32mif\u001b[0m \u001b[0mhasattr\u001b[0m\u001b[1;33m(\u001b[0m\u001b[0mplt\u001b[0m\u001b[1;33m,\u001b[0m \u001b[1;34m\"Axes\"\u001b[0m\u001b[1;33m)\u001b[0m \u001b[1;32mand\u001b[0m \u001b[0misinstance\u001b[0m\u001b[1;33m(\u001b[0m\u001b[0mtarget\u001b[0m\u001b[1;33m,\u001b[0m \u001b[0mplt\u001b[0m\u001b[1;33m.\u001b[0m\u001b[0mAxes\u001b[0m\u001b[1;33m)\u001b[0m\u001b[1;33m:\u001b[0m\u001b[1;33m\u001b[0m\u001b[1;33m\u001b[0m\u001b[0m\n\u001b[0;32m    474\u001b[0m         \u001b[0mresult\u001b[0m \u001b[1;33m=\u001b[0m \u001b[0mMatplotlibGraphDrawer\u001b[0m\u001b[1;33m(\u001b[0m\u001b[0max\u001b[0m\u001b[1;33m=\u001b[0m\u001b[0mtarget\u001b[0m\u001b[1;33m)\u001b[0m\u001b[1;33m\u001b[0m\u001b[1;33m\u001b[0m\u001b[0m\n\u001b[1;32m--> 475\u001b[1;33m         \u001b[0mresult\u001b[0m\u001b[1;33m.\u001b[0m\u001b[0mdraw\u001b[0m\u001b[1;33m(\u001b[0m\u001b[0mobj\u001b[0m\u001b[1;33m,\u001b[0m \u001b[1;33m*\u001b[0m\u001b[0margs\u001b[0m\u001b[1;33m,\u001b[0m \u001b[1;33m**\u001b[0m\u001b[0mkwds\u001b[0m\u001b[1;33m)\u001b[0m\u001b[1;33m\u001b[0m\u001b[1;33m\u001b[0m\u001b[0m\n\u001b[0m\u001b[0;32m    476\u001b[0m         \u001b[1;32mreturn\u001b[0m\u001b[1;33m\u001b[0m\u001b[1;33m\u001b[0m\u001b[0m\n\u001b[0;32m    477\u001b[0m \u001b[1;33m\u001b[0m\u001b[0m\n",
      "\u001b[1;32mC:\\ProgramFiles\\Anaconda3\\lib\\site-packages\\igraph\\drawing\\graph.py\u001b[0m in \u001b[0;36mdraw\u001b[1;34m(self, graph, *args, **kwds)\u001b[0m\n\u001b[0;32m   1030\u001b[0m \u001b[1;33m\u001b[0m\u001b[0m\n\u001b[0;32m   1031\u001b[0m         \u001b[1;31m# Vertex coordinates\u001b[0m\u001b[1;33m\u001b[0m\u001b[1;33m\u001b[0m\u001b[1;33m\u001b[0m\u001b[0m\n\u001b[1;32m-> 1032\u001b[1;33m         \u001b[0mvcoord\u001b[0m \u001b[1;33m=\u001b[0m \u001b[0mlayout\u001b[0m\u001b[1;33m.\u001b[0m\u001b[0mcoords\u001b[0m\u001b[1;33m\u001b[0m\u001b[1;33m\u001b[0m\u001b[0m\n\u001b[0m\u001b[0;32m   1033\u001b[0m \u001b[1;33m\u001b[0m\u001b[0m\n\u001b[0;32m   1034\u001b[0m         \u001b[1;31m# mark groups: the used data structure is eventually the dict option:\u001b[0m\u001b[1;33m\u001b[0m\u001b[1;33m\u001b[0m\u001b[1;33m\u001b[0m\u001b[0m\n",
      "\u001b[1;31mAttributeError\u001b[0m: module 'igraph.layout' has no attribute 'coords'"
     ]
    },
    {
     "data": {
      "image/png": "[encoded data removed]",
      "text/plain": [
       "<Figure size 432x288 with 1 Axes>"
      ]
     },
     "metadata": {
      "needs_background": "light"
     },
     "output_type": "display_data"
    }
   ],
   "source": [
    "from igraph import *\n",
    "fig, ax1 = plt.subplots()\n",
    "#plot(g, layout=layout, target=ax)\n",
    "plot(g, layout=layout, target=ax1)"
   ]
  }
 ],
 "metadata": {
  "kernelspec": {
   "display_name": "Python 3",
   "language": "python",
   "name": "python3"
  },
  "language_info": {
   "codemirror_mode": {
    "name": "ipython",
    "version": 3
   },
   "file_extension": ".py",
   "mimetype": "text/x-python",
   "name": "python",
   "nbconvert_exporter": "python",
   "pygments_lexer": "ipython3",
   "version": "3.7.4"
  }
 },
 "nbformat": 4,
 "nbformat_minor": 2
}
